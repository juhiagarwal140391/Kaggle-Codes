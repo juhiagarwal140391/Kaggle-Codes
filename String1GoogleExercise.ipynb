{
 "cells": [
  {
   "cell_type": "code",
   "execution_count": 1,
   "metadata": {},
   "outputs": [
    {
     "name": "stdout",
     "output_type": "stream",
     "text": [
      "[1, 2, 3, 4]\n"
     ]
    }
   ],
   "source": [
    "a=[1,2,3,4]\n",
    "print(a)"
   ]
  },
  {
   "cell_type": "code",
   "execution_count": 28,
   "metadata": {},
   "outputs": [
    {
     "name": "stdout",
     "output_type": "stream",
     "text": [
      "donuts\n",
      "prefix: OK got: 'Number of donuts: 4' expected: 'Number of donuts: 4' \n",
      "prefix: OK got: 'Number of donuts: 9' expected: 'Number of donuts: 9' \n",
      "prefix: OK got: 'Number of donuts: many' expected: 'Number of donuts: many' \n",
      "prefix: OK got: 'Number of donuts: many' expected: 'Number of donuts: many' \n",
      "both_ends\n",
      "prefix: OK got: 'spng' expected: 'spng' \n",
      "prefix: OK got: 'Helo' expected: 'Helo' \n",
      "prefix: OK got: '' expected: '' \n",
      "prefix: OK got: 'xyyz' expected: 'xyyz' \n",
      "fix_start\n",
      "prefix: OK got: 'ba**le' expected: 'ba**le' \n",
      "prefix: OK got: 'a*rdv*rk' expected: 'a*rdv*rk' \n",
      "prefix: OK got: 'goo*le' expected: 'goo*le' \n",
      "prefix: OK got: 'donut' expected: 'donut' \n",
      "mix_up\n",
      "prefix: OK got: 'pox mid' expected: 'pox mid' \n",
      "prefix: OK got: 'dig donner' expected: 'dig donner' \n",
      "prefix: OK got: 'spash gnort' expected: 'spash gnort' \n",
      "prefix: OK got: 'fizzy perm' expected: 'fizzy perm' \n"
     ]
    }
   ],
   "source": [
    "#String 1 basic exercise form google\n",
    "def donuts(count):\n",
    "    if count < 10:\n",
    "        return 'Number of donuts: ' + str(count)\n",
    "    else:\n",
    "        return 'Number of donuts: many'\n",
    "    \n",
    "def both_ends(s):\n",
    "    if len(s) >=2:\n",
    "        return s[:2]+s[-2:]\n",
    "    else:\n",
    "        return ''\n",
    "    \n",
    "def fix_start(s):\n",
    "    frst=s[0]\n",
    "    all1=s[1:]\n",
    "    final1=all1.replace(frst,'*')\n",
    "    return frst+final1\n",
    " \n",
    "def mix_up(a, b):\n",
    "    frst1=a[0:2]\n",
    "    frst2=b[0:2]\n",
    "    all1=a[1:]\n",
    "    all2=b[1:]\n",
    "    c=a.replace(frst1,frst2) #c=b[0:2]+a[2:]\n",
    "    d=b.replace(frst2,frst1) #d=a[0:2]+b[2:]\n",
    "    return c +' '+d\n",
    "\n",
    "\n",
    "    \n",
    "def test(got,expected):\n",
    "    if got==expected:\n",
    "        prefix='OK'\n",
    "    else:\n",
    "        prefix='X'\n",
    "    print('prefix: %s got: %s expected: %s ' % (prefix, repr(got), repr(expected)))\n",
    "\n",
    "def main():\n",
    "    print('donuts')\n",
    "    test(donuts(4),'Number of donuts: 4')\n",
    "    test(donuts(9), 'Number of donuts: 9')\n",
    "    test(donuts(10), 'Number of donuts: many')\n",
    "    test(donuts(99), 'Number of donuts: many')\n",
    "    \n",
    "    print('both_ends')\n",
    "    test(both_ends('spring'), 'spng')\n",
    "    test(both_ends('Hello'), 'Helo')\n",
    "    test(both_ends('a'), '')\n",
    "    test(both_ends('xyz'), 'xyyz')\n",
    "    \n",
    "    print('fix_start')\n",
    "    test(fix_start('babble'), 'ba**le')\n",
    "    test(fix_start('aardvark'), 'a*rdv*rk')\n",
    "    test(fix_start('google'), 'goo*le')\n",
    "    test(fix_start('donut'), 'donut')\n",
    "    \n",
    "    print('mix_up')\n",
    "    test(mix_up('mix', 'pod'), 'pox mid')\n",
    "    test(mix_up('dog', 'dinner'), 'dig donner')\n",
    "    test(mix_up('gnash', 'sport'), 'spash gnort')\n",
    "    test(mix_up('pezzy', 'firm'), 'fizzy perm')\n",
    "\n",
    "    \n",
    "if __name__ == '__main__':\n",
    "    main()\n",
    "\n",
    "        \n"
   ]
  },
  {
   "cell_type": "code",
   "execution_count": 26,
   "metadata": {},
   "outputs": [
    {
     "name": "stdout",
     "output_type": "stream",
     "text": [
      "mi\n",
      "po\n",
      "pox\n"
     ]
    }
   ],
   "source": [
    "a='mix'\n",
    "b='pod'\n",
    "frst1=a[0:2]\n",
    "frst2=b[0:2]\n",
    "print(frst1)\n",
    "print(frst2)\n",
    "b=a.replace(frst1,frst2)\n",
    "print(b)"
   ]
  },
  {
   "cell_type": "code",
   "execution_count": 46,
   "metadata": {},
   "outputs": [
    {
     "name": "stdout",
     "output_type": "stream",
     "text": [
      "verbing\n",
      "prefix:  OK  got: 'hailing' expected: 'hailing'\n",
      "prefix:  OK  got: 'swimingly' expected: 'swimingly'\n",
      "prefix:  OK  got: 'do' expected: 'do'\n",
      "not_bad\n",
      "prefix:  OK  got: 'This movie is good' expected: 'This movie is good'\n",
      "prefix:  OK  got: 'This dinner is good!' expected: 'This dinner is good!'\n",
      "prefix:  OK  got: 'This tea is not hot' expected: 'This tea is not hot'\n",
      "prefix:  OK  got: \"It's bad yet not\" expected: \"It's bad yet not\"\n",
      "front_back\n",
      "prefix:  OK  got: 'abxcdy' expected: 'abxcdy'\n",
      "prefix:  OK  got: 'abcxydez' expected: 'abcxydez'\n",
      "prefix:  OK  got: 'KitDontenut' expected: 'KitDontenut'\n"
     ]
    }
   ],
   "source": [
    "#string2 exercise\n",
    "def verbing(s):\n",
    "    if len(s)>=3:\n",
    "        if s[-3:]=='ing':\n",
    "            #s_chn=s.replace(s[-3:],'ly')\n",
    "            s_chn=s+'ly'\n",
    "        else:\n",
    "            s_chn=s+'ing'\n",
    "    else:\n",
    "        s_chn=s\n",
    "    return s_chn\n",
    "\n",
    "def not_bad(s):\n",
    "    notIndex=s.find('not')\n",
    "    badIndex=s.find('bad')\n",
    "    if badIndex !=-1 and notIndex !=-1 and badIndex>notIndex:\n",
    "        s_new=s.replace(s[notIndex:badIndex+3],'good')\n",
    "    else:\n",
    "        s_new=s\n",
    "    return s_new\n",
    "\n",
    "def front_back(a,b):\n",
    "    a_middle = int(len(a) / 2)\n",
    "    b_middle = int(len(b) / 2)\n",
    "    if len(a) % 2 == 1:\n",
    "        a_middle = a_middle + 1\n",
    "    if len(b) % 2 == 1:\n",
    "        b_middle = b_middle + 1 \n",
    "    return a[:a_middle] + b[:b_middle] + a[a_middle:] + b[b_middle:]\n",
    "    \n",
    "    \n",
    "\n",
    "def test(got,expected):\n",
    "    if got==expected:\n",
    "        prefix=' OK '\n",
    "    else:\n",
    "        prefix=' X '\n",
    "        \n",
    "    print('prefix: %s got: %s expected: %s' %(prefix,repr(got),repr(expected)))\n",
    "        \n",
    "\n",
    "\n",
    "def main():\n",
    "    print('verbing')\n",
    "    test(verbing('hail'), 'hailing')\n",
    "    test(verbing('swiming'), 'swimingly')\n",
    "    test(verbing('do'), 'do')\n",
    "    \n",
    "    print('not_bad')\n",
    "    test(not_bad('This movie is not so bad'), 'This movie is good')\n",
    "    test(not_bad('This dinner is not that bad!'), 'This dinner is good!')\n",
    "    test(not_bad('This tea is not hot'), 'This tea is not hot')\n",
    "    test(not_bad(\"It's bad yet not\"), \"It's bad yet not\")\n",
    "     \n",
    "    print('front_back')\n",
    "    test(front_back('abcd', 'xy'), 'abxcdy')\n",
    "    test(front_back('abcde', 'xyz'), 'abcxydez')\n",
    "    test(front_back('Kitten', 'Donut'), 'KitDontenut')\n",
    "    \n",
    "    \n",
    "if __name__ == '__main__':\n",
    "    main()"
   ]
  },
  {
   "cell_type": "code",
   "execution_count": 42,
   "metadata": {},
   "outputs": [
    {
     "name": "stdout",
     "output_type": "stream",
     "text": [
      "a good daz\n"
     ]
    }
   ],
   "source": [
    "s='a good day'\n",
    "s1=s.replace(s[-1],'z')\n",
    "print(s1)"
   ]
  },
  {
   "cell_type": "code",
   "execution_count": 44,
   "metadata": {},
   "outputs": [
    {
     "name": "stdout",
     "output_type": "stream",
     "text": [
      "front_back\n",
      "prefix:  OK  got: 'abxcdy' expected: 'abxcdy'\n",
      "prefix:  OK  got: 'abcxydez' expected: 'abcxydez'\n",
      "prefix:  OK  got: 'KitDontenut' expected: 'KitDontenut'\n",
      "prefix:  OK  got: 'Nitjuinhi' expected: 'Nitjuinhi'\n"
     ]
    }
   ],
   "source": [
    "# F. front_back\n",
    "# Consider dividing a string into two halves.\n",
    "# If the length is even, the front and back halves are the same length.\n",
    "# If the length is odd, we'll say that the extra char goes in the front half.\n",
    "# e.g. 'abcde', the front half is 'abc', the back half 'de'.\n",
    "# Given 2 strings, a and b, return a string of the form\n",
    "#  a-front + b-front + a-back + b-back\n",
    "\n",
    "def front_back(a,b):\n",
    "    a_middle = int(len(a) / 2)\n",
    "    b_middle = int(len(b) / 2)\n",
    "    \n",
    "    if len(a) % 2 == 1:\n",
    "        a_middle = int(a_middle + 1)\n",
    "    if len(b) % 2 == 1:\n",
    "        b_middle = int(b_middle + 1) \n",
    "    return a[:a_middle] + b[:b_middle] + a[a_middle:] + b[b_middle:]\n",
    "    \n",
    "    \n",
    "\n",
    "def test(got,expected):\n",
    "    if got==expected:\n",
    "        prefix=' OK '\n",
    "    else:\n",
    "        prefix=' X '\n",
    "        \n",
    "    print('prefix: %s got: %s expected: %s' %(prefix,repr(got),repr(expected)))\n",
    "        \n",
    "\n",
    "\n",
    "def main():\n",
    "\n",
    "     \n",
    "    print('front_back')\n",
    "    test(front_back('abcd', 'xy'), 'abxcdy')\n",
    "    test(front_back('abcde', 'xyz'), 'abcxydez')\n",
    "    test(front_back('Kitten', 'Donut'), 'KitDontenut')\n",
    "    test(front_back('Nitin','juhi'),'Nitjuinhi')\n",
    "    \n",
    "    \n",
    "if __name__ == '__main__':\n",
    "    main()"
   ]
  },
  {
   "cell_type": "code",
   "execution_count": 39,
   "metadata": {},
   "outputs": [],
   "source": [
    "import math\n",
    "def front_back(a,b):\n",
    "    a_middle = len(a) / 2\n",
    "    b_middle = len(b) / 2\n",
    "    return(a[:math.ceil(a_middle)],b[:math.ceil(b_middle)],a[math.ceil(a_middle):],b[math.ceil(b_middle):])# another way"
   ]
  },
  {
   "cell_type": "code",
   "execution_count": 40,
   "metadata": {},
   "outputs": [
    {
     "data": {
      "text/plain": [
       "('ju', 'nit', 'hi', 'in')"
      ]
     },
     "execution_count": 40,
     "metadata": {},
     "output_type": "execute_result"
    }
   ],
   "source": []
  }
 ],
 "metadata": {
  "kernelspec": {
   "display_name": "Python 3",
   "language": "python",
   "name": "python3"
  },
  "language_info": {
   "codemirror_mode": {
    "name": "ipython",
    "version": 3
   },
   "file_extension": ".py",
   "mimetype": "text/x-python",
   "name": "python",
   "nbconvert_exporter": "python",
   "pygments_lexer": "ipython3",
   "version": "3.6.3"
  }
 },
 "nbformat": 4,
 "nbformat_minor": 2
}
