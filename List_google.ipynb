{
 "cells": [
  {
   "cell_type": "code",
   "execution_count": 26,
   "metadata": {},
   "outputs": [
    {
     "name": "stdout",
     "output_type": "stream",
     "text": [
      "match_ends\n",
      "prefix:  OK  got: 3 expected 3 \n",
      "prefix:  OK  got: 2 expected 2 \n",
      "prefix:  OK  got: 1 expected 1 \n",
      "prefix:  OK  got: 0 expected 0 \n",
      "front_x\n",
      "prefix:  OK  got: ['xaa', 'xzz', 'axx', 'bbb', 'ccc'] expected ['xaa', 'xzz', 'axx', 'bbb', 'ccc'] \n",
      "prefix:  OK  got: ['xaa', 'xcc', 'aaa', 'bbb', 'ccc'] expected ['xaa', 'xcc', 'aaa', 'bbb', 'ccc'] \n",
      "prefix:  OK  got: ['xanadu', 'xyz', 'aardvark', 'apple', 'mix'] expected ['xanadu', 'xyz', 'aardvark', 'apple', 'mix'] \n",
      "sort_last\n",
      "prefix:  OK  got: [(2, 1), (3, 2), (1, 3)] expected [(2, 1), (3, 2), (1, 3)] \n",
      "prefix:  OK  got: [(3, 1), (1, 2), (2, 3)] expected [(3, 1), (1, 2), (2, 3)] \n",
      "prefix:  OK  got: [(2, 2), (1, 3), (3, 4, 5), (1, 7)] expected [(2, 2), (1, 3), (3, 4, 5), (1, 7)] \n"
     ]
    }
   ],
   "source": [
    "# A. match_ends\n",
    "# Given a list of strings, return the count of the number of\n",
    "# strings where the string length is 2 or more and the first\n",
    "# and last chars of the string are the same.\n",
    "# Note: python does not have a ++ operator, but += works.\n",
    "def match_ends(words):\n",
    "    count=0#that means the count=0 is set only once the list after thi step is going to for loop\n",
    "    for num in words:\n",
    "        if len(num)>=2:\n",
    "            if num[0]==num[-1]:\n",
    "                count=count+1\n",
    "    return count\n",
    "\n",
    "# B. front_x\n",
    "# Given a list of strings, return a list with the strings\n",
    "# in sorted order, except group all the strings that begin with 'x' first.\n",
    "# e.g. ['mix', 'xyz', 'apple', 'xanadu', 'aardvark'] yields\n",
    "# ['xanadu', 'xyz', 'aardvark', 'apple', 'mix']\n",
    "# Hint: this can be done by making 2 lists and sorting each of them\n",
    "# before combining them.\n",
    "#use of append(),sorted() startswith(),Try using front_x instead of nw\n",
    "def front_x(words):\n",
    "    nw=sorted(words)\n",
    "    l1=[]\n",
    "    l2=[]\n",
    "    for st in nw:\n",
    "        if st.startswith('x') or st.startswith('X'):\n",
    "            l1.append(st)\n",
    "        else:\n",
    "            l2.append(st)\n",
    "    return l1+l2\n",
    "\n",
    "\n",
    "# C. sort_last\n",
    "# Given a list of non-empty tuples, return a list sorted in increasing\n",
    "# order by the last element in each tuple.\n",
    "# e.g. [(1, 7), (1, 3), (3, 4, 5), (2, 2)] yields\n",
    "# [(2, 2), (1, 3), (3, 4, 5), (1, 7)]\n",
    "# Hint: use a custom key= function to extract the last element form each tuple.\n",
    "\n",
    "    \n",
    "def sort_last(tuples):\n",
    "    return sorted(tuples,key=lambda tup: tup[-1])\n",
    "    \n",
    "def test(got,expected):\n",
    "    if got==expected:\n",
    "        prefix=' OK '\n",
    "    else:\n",
    "        prefix=' X '\n",
    "    print('prefix: %s got: %s expected %s ' %(prefix, repr(got),repr(expected)))\n",
    "    \n",
    "\n",
    "\n",
    "def main():\n",
    "     print('match_ends')\n",
    "     test(match_ends(['aba', 'xyz', 'aa', 'x', 'bbb']), 3)\n",
    "     test(match_ends(['', 'x', 'xy', 'xyx', 'xx']), 2)\n",
    "     test(match_ends(['aaa', 'be', 'abc', 'hello']), 1)\n",
    "     test(match_ends(['aab', 'be', 'abc', 'hello']), 0)\n",
    "        \n",
    "     print('front_x')\n",
    "     test(front_x(['bbb', 'ccc', 'axx', 'xzz', 'xaa']),['xaa', 'xzz', 'axx', 'bbb', 'ccc'])\n",
    "     test(front_x(['ccc', 'bbb', 'aaa', 'xcc', 'xaa']),['xaa', 'xcc', 'aaa', 'bbb', 'ccc'])\n",
    "     test(front_x(['mix', 'xyz', 'apple', 'xanadu', 'aardvark']),['xanadu', 'xyz', 'aardvark', 'apple', 'mix'])\n",
    "        \n",
    "     print('sort_last')\n",
    "     test(sort_last([(1, 3), (3, 2), (2, 1)]),[(2, 1), (3, 2), (1, 3)])\n",
    "     test(sort_last([(2, 3), (1, 2), (3, 1)]),[(3, 1), (1, 2), (2, 3)])\n",
    "     test(sort_last([(1, 7), (1, 3), (3, 4, 5), (2, 2)]),[(2, 2), (1, 3), (3, 4, 5), (1, 7)])\n",
    "\n",
    "if __name__ == '__main__':\n",
    "    main()"
   ]
  },
  {
   "cell_type": "code",
   "execution_count": 52,
   "metadata": {},
   "outputs": [
    {
     "name": "stdout",
     "output_type": "stream",
     "text": [
      "1\n",
      "3\n"
     ]
    }
   ],
   "source": [
    "res=[]\n",
    "seed = ['a', 'abc']\n",
    "for s in seed:\n",
    "    print(len(s))\n",
    "    "
   ]
  },
  {
   "cell_type": "code",
   "execution_count": 29,
   "metadata": {},
   "outputs": [
    {
     "name": "stdout",
     "output_type": "stream",
     "text": [
      "['xzz', 'xaa']\n",
      "['bbb', 'ccc', 'axx']\n",
      "['xzz', 'xaa', 'bbb', 'ccc', 'axx']\n"
     ]
    }
   ],
   "source": [
    "front_x=['bbb', 'ccc', 'axx', 'xzz', 'xaa']\n",
    "nw=sorted(front_x)#using this list is imp because if you use front_x it will take non sorted one\n",
    "l1=[]\n",
    "l2=[]\n",
    "for st in front_x:\n",
    "    if st.startswith('x') or st.startswith('X'):\n",
    "        l1.append(st)\n",
    "    else:\n",
    "        l2.append(st)\n",
    "\n",
    "    \n",
    "print(l1)\n",
    "print(l2)\n",
    "final=l1+l2\n",
    "print(final)\n"
   ]
  },
  {
   "cell_type": "code",
   "execution_count": 57,
   "metadata": {},
   "outputs": [
    {
     "name": "stdout",
     "output_type": "stream",
     "text": [
      "remove_adjacent\n",
      "prefix:  OK  got: [1, 2, 3] expected: [1, 2, 3]\n",
      "prefix:  OK  got: [2, 3] expected: [2, 3]\n",
      "prefix:  OK  got: [] expected: []\n",
      "linear_merge\n",
      "prefix:  X  got: ['aa', 'xx', 'zz', 'bb', 'cc'] expected: ['aa', 'bb', 'cc', 'xx', 'zz']\n",
      "prefix:  X  got: ['aa', 'xx', 'bb', 'cc', 'zz'] expected: ['aa', 'bb', 'cc', 'xx', 'zz']\n",
      "prefix:  OK  got: ['aa', 'aa', 'aa', 'bb', 'bb'] expected: ['aa', 'aa', 'aa', 'bb', 'bb']\n"
     ]
    }
   ],
   "source": [
    "# D. Given a list of numbers, return a list where\n",
    "# all adjacent == elements have been reduced to a single element,\n",
    "# so [1, 2, 2, 3] returns [1, 2, 3]. You may create a new list or\n",
    "# modify the passed in list.\n",
    "def remove_adjacent(l1):\n",
    "    num=0\n",
    "    while num < len(l1)-1:\n",
    "        if l1[num]==l1[num+1]:\n",
    "            del(l1[num+1])\n",
    "            num=num-1\n",
    "        num=num+1\n",
    "    return l1\n",
    "\n",
    "# E. Given two lists sorted in increasing order, create and return a merged\n",
    "# list of all the elements in sorted order. You may modify the passed in lists.\n",
    "# Ideally, the solution should work in \"linear\" time, making a single\n",
    "# pass of both lists.\n",
    "\n",
    "def linear_merge(list1, list2):\n",
    "    sorted(list1)\n",
    "    sorted(list2)\n",
    "    result=[]\n",
    "    #list3=list1+list2\n",
    "    #return sorted(list3)\n",
    "    if list1[0] < list2[0]:\n",
    "        result.append(list1.pop(0))\n",
    "    else:\n",
    "        result.append(list2.pop(0))\n",
    "    result.extend(list1)\n",
    "    result.extend(list2)\n",
    "    return result\n",
    "        \n",
    "\n",
    "    \n",
    "def test(got,expected):\n",
    "    if got==expected:\n",
    "        prefix=' OK '\n",
    "    else:\n",
    "        prefix=' X '\n",
    "    print('prefix: %s got: %s expected: %s' %(prefix,repr(got),repr(expected)))\n",
    "\n",
    "def main():\n",
    "    print('remove_adjacent')\n",
    "    test(remove_adjacent([1, 2, 2, 3]), [1, 2, 3])\n",
    "    test(remove_adjacent([2, 2, 3, 3, 3]), [2, 3])\n",
    "    test(remove_adjacent([]), [])\n",
    "    \n",
    "    print('linear_merge')\n",
    "    test(linear_merge(['aa', 'xx', 'zz'], ['bb', 'cc']),['aa', 'bb', 'cc', 'xx', 'zz'])\n",
    "    test(linear_merge(['aa', 'xx'], ['bb', 'cc', 'zz']),['aa', 'bb', 'cc', 'xx', 'zz'])\n",
    "    test(linear_merge(['aa', 'aa'], ['aa', 'bb', 'bb']),['aa', 'aa', 'aa', 'bb', 'bb'])\n",
    "    \n",
    "if __name__ == '__main__':\n",
    "    main()"
   ]
  },
  {
   "cell_type": "code",
   "execution_count": 43,
   "metadata": {},
   "outputs": [
    {
     "name": "stdout",
     "output_type": "stream",
     "text": [
      "[1, 2, 3, 4]\n"
     ]
    }
   ],
   "source": [
    "l1=[1,2,2,3,3,4,4,4]\n",
    "\n",
    "num=0\n",
    "while num < len(l1)-1:\n",
    "    if l1[num]==l1[num+1]:\n",
    "        del(l1[num+1])\n",
    "        num=num-1\n",
    "    num=num+1\n",
    "print(l1)\n",
    "   \n",
    "        \n",
    "        \n",
    "\n"
   ]
  },
  {
   "cell_type": "markdown",
   "metadata": {},
   "source": []
  },
  {
   "cell_type": "code",
   "execution_count": 54,
   "metadata": {},
   "outputs": [
    {
     "name": "stdout",
     "output_type": "stream",
     "text": [
      "['aa', 'bb', 'cc', 'xx', 'zz']\n"
     ]
    }
   ],
   "source": [
    "list1=['aa', 'xx', 'zz']\n",
    "list2=['bb', 'cc']\n",
    "sorted(list1)\n",
    "sorted(list2)\n",
    "list3=list1+list2\n",
    "print(sorted(list3))"
   ]
  },
  {
   "cell_type": "code",
   "execution_count": null,
   "metadata": {
    "collapsed": true
   },
   "outputs": [],
   "source": []
  }
 ],
 "metadata": {
  "kernelspec": {
   "display_name": "Python 3",
   "language": "python",
   "name": "python3"
  },
  "language_info": {
   "codemirror_mode": {
    "name": "ipython",
    "version": 3
   },
   "file_extension": ".py",
   "mimetype": "text/x-python",
   "name": "python",
   "nbconvert_exporter": "python",
   "pygments_lexer": "ipython3",
   "version": "3.6.3"
  }
 },
 "nbformat": 4,
 "nbformat_minor": 2
}
